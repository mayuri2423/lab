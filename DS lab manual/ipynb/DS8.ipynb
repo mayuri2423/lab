{
 "cells": [
  {
   "cell_type": "markdown",
   "id": "cc75e60b",
   "metadata": {},
   "source": [
    "#### 8) Design and Develop real-time Data Science Application (e.g. Image Recognition/ Intelligent Assistant/ Recommendation System/ Fake News Detection/Emotion Recognition/Chatbot/Other)"
   ]
  },
  {
   "cell_type": "code",
   "execution_count": 8,
   "id": "127c72e5",
   "metadata": {},
   "outputs": [],
   "source": [
    "class DataScienceChatbot:\n",
    "    def __init__(self):\n",
    "        # Predefined responses for the chatbot\n",
    "        self.responses = {\n",
    "            \"what is data science\": \"> Data science is the study of data to extract insights and knowledge from structured and unstructured data.\",\n",
    "            \"what is data analytics\": \"> Data analytics is the process of examining, cleaning, transforming, and modeling data to discover useful information, draw conclusions, and support decision-making.\",\n",
    "            \"what are the differences between data analytics and data science\": \"> Data analytics primarily focuses on descriptive and diagnostic analysis of data, while data science involves predictive and prescriptive analysis, often using machine learning and deep learning techniques.\",\n",
    "            \"what is machine learning\": \"> Machine learning is a subset of AI that provides systems the ability to automatically learn and improve from experience without being explicitly programmed.\",\n",
    "            \"what is deep learning\": \"> Deep learning is a subset of machine learning that uses neural networks with many layers (deep neural networks) to analyze various factors of data.\",\n",
    "            \"what is supervised learning\": \"> Supervised learning is a type of machine learning where the algorithm is trained on a labeled dataset, and it learns to make predictions based on input features and corresponding target labels.\",\n",
    "            \"what is unsupervised learning\": \"> Unsupervised learning is a type of machine learning where the algorithm is trained on an unlabeled dataset, and it identifies patterns, structures, or clusters within the data.\",\n",
    "            \"explain the steps in making a decision tree\": \"> The steps in making a decision tree include selecting the best attribute to split the data, calculating impurity measures, creating child nodes, and repeating the process recursively until a stopping condition is met.\",\n",
    "            \"differentiate between univariate, bivariate, and multivariate analysis\": \"> Univariate analysis deals with a single variable, bivariate analysis involves two variables, and multivariate analysis considers multiple variables simultaneously to understand their relationships.\",\n",
    "            \"how should you maintain a deployed model\": \"> Maintaining a deployed model involves monitoring its performance, retraining it with new data, updating dependencies, and ensuring data quality and security.\",\n",
    "            \"what is a confusion matrix\": \"> A confusion matrix is a table used in classification to evaluate the performance of a model by showing the true positive, true negative, false positive, and false negative predictions.\",\n",
    "            \"how is logistic regression done\": \"> Logistic regression is used for binary classification and involves modeling the probability of the binary outcome using the logistic function.\",\n",
    "            \"what is the significance of p-value\": \"> The p-value is used in hypothesis testing to determine the probability of obtaining observed results or more extreme results under the null hypothesis. A small p-value indicates evidence against the null hypothesis.\",\n",
    "            \"mention some techniques used for sampling\": \"> Sampling techniques include random sampling, stratified sampling, systematic sampling, and cluster sampling.\",\n",
    "            \"default\": \"> I'm sorry, I don't have an answer for that. Please ask another question!\"\n",
    "        }\n",
    "\n",
    "    def get_response(self, user_input):\n",
    "        # Convert user input to lowercase and strip spaces\n",
    "        user_input = user_input.lower().strip()\n",
    "        \n",
    "        # Search for a response, if not found, return a default response\n",
    "        return self.responses.get(user_input, self.responses[\"default\"])\n",
    "\n",
    "    def chat(self):\n",
    "        print(\"DataScience Chatbot: Hello! Ask me about data science or machine learning.\")\n",
    "        while True:\n",
    "            user_input = input(\"You: \")\n",
    "            if user_input.lower() in ['exit', 'quit', 'bye']:\n",
    "                print(\"DataScience Chatbot: Goodbye!\")\n",
    "                break\n",
    "            response = self.get_response(user_input)\n",
    "            print(f\"DataScience Chatbot: {response}\")\n",
    "\n"
   ]
  },
  {
   "cell_type": "code",
   "execution_count": 9,
   "id": "11a04fe4",
   "metadata": {},
   "outputs": [
    {
     "name": "stdout",
     "output_type": "stream",
     "text": [
      "DataScience Chatbot: Hello! Ask me about data science or machine learning.\n",
      "You: what is data science\n",
      "DataScience Chatbot: > Data science is the study of data to extract insights and knowledge from structured and unstructured data.\n",
      "You: what is machine learning\n",
      "DataScience Chatbot: > Machine learning is a subset of AI that provides systems the ability to automatically learn and improve from experience without being explicitly programmed.\n",
      "You: what is supervised learning\n",
      "DataScience Chatbot: > Supervised learning is a type of machine learning where the algorithm is trained on a labeled dataset, and it learns to make predictions based on input features and corresponding target labels.\n",
      "You: what is unsupervised learning\n",
      "DataScience Chatbot: > Unsupervised learning is a type of machine learning where the algorithm is trained on an unlabeled dataset, and it identifies patterns, structures, or clusters within the data.\n",
      "You: mention some techniques used for sampling\n",
      "DataScience Chatbot: > Sampling techniques include random sampling, stratified sampling, systematic sampling, and cluster sampling.\n",
      "You: how is logistic regression done\n",
      "DataScience Chatbot: > Logistic regression is used for binary classification and involves modeling the probability of the binary outcome using the logistic function.\n",
      "You: bye\n",
      "DataScience Chatbot: Goodbye!\n"
     ]
    }
   ],
   "source": [
    "# Run the chatbot\n",
    "chatbot = DataScienceChatbot()\n",
    "chatbot.chat()"
   ]
  }
 ],
 "metadata": {
  "kernelspec": {
   "display_name": "Python 3 (ipykernel)",
   "language": "python",
   "name": "python3"
  },
  "language_info": {
   "codemirror_mode": {
    "name": "ipython",
    "version": 3
   },
   "file_extension": ".py",
   "mimetype": "text/x-python",
   "name": "python",
   "nbconvert_exporter": "python",
   "pygments_lexer": "ipython3",
   "version": "3.10.9"
  }
 },
 "nbformat": 4,
 "nbformat_minor": 5
}
