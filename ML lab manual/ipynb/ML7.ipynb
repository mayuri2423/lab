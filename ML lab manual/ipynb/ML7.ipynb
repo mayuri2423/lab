{
 "cells": [
  {
   "cell_type": "markdown",
   "id": "2ea2775d",
   "metadata": {},
   "source": [
    "### 7) Implement a basic  not gate using perceptron"
   ]
  },
  {
   "cell_type": "code",
   "execution_count": 1,
   "id": "a680f465",
   "metadata": {},
   "outputs": [],
   "source": [
    "# importing Python library \n",
    "import numpy as np "
   ]
  },
  {
   "cell_type": "code",
   "execution_count": 4,
   "id": "b1faba49",
   "metadata": {},
   "outputs": [],
   "source": [
    "# define Unit Step Function \n",
    "def unitStep(v): \n",
    "    if v >= 0: \n",
    "        return 1\n",
    "    else: \n",
    "        return 0"
   ]
  },
  {
   "cell_type": "code",
   "execution_count": 5,
   "id": "04e47d14",
   "metadata": {},
   "outputs": [],
   "source": [
    "# design Perceptron Model \n",
    "def perceptronModel(x, w, b): \n",
    "    v = np.dot(w, x) + b \n",
    "    y = unitStep(v) \n",
    "    return y "
   ]
  },
  {
   "cell_type": "code",
   "execution_count": 6,
   "id": "fe60e8a3",
   "metadata": {},
   "outputs": [],
   "source": [
    "# NOT Logic Function \n",
    "# w = -1, b = 0.5 \n",
    "def NOT_logicFunction(x): \n",
    "    w = -1\n",
    "    b = 0.5\n",
    "    return perceptronModel(x, w, b) "
   ]
  },
  {
   "cell_type": "code",
   "execution_count": 7,
   "id": "2e922055",
   "metadata": {},
   "outputs": [
    {
     "name": "stdout",
     "output_type": "stream",
     "text": [
      "NOT(1) = 0\n",
      "NOT(0) = 1\n"
     ]
    }
   ],
   "source": [
    "# testing the Perceptron Model \n",
    "test1 = np.array(1) \n",
    "test2 = np.array(0) \n",
    "\n",
    "print(\"NOT({}) = {}\".format(1, NOT_logicFunction(test1))) \n",
    "print(\"NOT({}) = {}\".format(0, NOT_logicFunction(test2))) "
   ]
  },
  {
   "cell_type": "code",
   "execution_count": null,
   "id": "d0b65952",
   "metadata": {},
   "outputs": [],
   "source": []
  }
 ],
 "metadata": {
  "kernelspec": {
   "display_name": "Python 3 (ipykernel)",
   "language": "python",
   "name": "python3"
  },
  "language_info": {
   "codemirror_mode": {
    "name": "ipython",
    "version": 3
   },
   "file_extension": ".py",
   "mimetype": "text/x-python",
   "name": "python",
   "nbconvert_exporter": "python",
   "pygments_lexer": "ipython3",
   "version": "3.10.9"
  }
 },
 "nbformat": 4,
 "nbformat_minor": 5
}
